{
 "cells": [
  {
   "cell_type": "code",
   "execution_count": 1,
   "metadata": {},
   "outputs": [],
   "source": [
    "from ledger import Ledger\n",
    "from datetime import date"
   ]
  },
  {
   "cell_type": "code",
   "execution_count": 6,
   "metadata": {},
   "outputs": [],
   "source": [
    "ledger = Ledger(filename=\"data/ledger.csv\")"
   ]
  },
  {
   "cell_type": "code",
   "execution_count": 9,
   "metadata": {},
   "outputs": [
    {
     "name": "stdout",
     "output_type": "stream",
     "text": [
      "Data was appended to file!\n"
     ]
    }
   ],
   "source": [
    "### запись уроков ###\n",
    "date_ = date.today().strftime(\"%d.%m.%Y\")  # Сегодня\n",
    "date_ = '27.04.2022'\n",
    "lesson = \"информатика\"\n",
    "notes = \"дз вар 8\"\n",
    "a = ledger.write_lesson(date=date_, subject=lesson, notes=notes)"
   ]
  },
  {
   "cell_type": "code",
   "execution_count": 10,
   "metadata": {},
   "outputs": [
    {
     "name": "stdout",
     "output_type": "stream",
     "text": [
      "Оплачено 2 уроков вперед\n"
     ]
    }
   ],
   "source": [
    "ledger.check_status()"
   ]
  },
  {
   "cell_type": "code",
   "execution_count": 7,
   "metadata": {},
   "outputs": [
    {
     "name": "stdout",
     "output_type": "stream",
     "text": [
      "Data was appended to file!\n"
     ]
    }
   ],
   "source": [
    "### запись оплаты ######\n",
    "date_ = date.today().strftime(\"%d.%m.%Y\")  # Сегодня\n",
    "money = 7200\n",
    "a = ledger.write_payment(date=date_, payment=money)"
   ]
  },
  {
   "cell_type": "code",
   "execution_count": 11,
   "metadata": {
    "scrolled": false
   },
   "outputs": [
    {
     "data": {
      "text/html": [
       "<div>\n",
       "<style scoped>\n",
       "    .dataframe tbody tr th:only-of-type {\n",
       "        vertical-align: middle;\n",
       "    }\n",
       "\n",
       "    .dataframe tbody tr th {\n",
       "        vertical-align: top;\n",
       "    }\n",
       "\n",
       "    .dataframe thead th {\n",
       "        text-align: right;\n",
       "    }\n",
       "</style>\n",
       "<table border=\"1\" class=\"dataframe\">\n",
       "  <thead>\n",
       "    <tr style=\"text-align: right;\">\n",
       "      <th></th>\n",
       "      <th>date</th>\n",
       "      <th>type</th>\n",
       "      <th>subject</th>\n",
       "      <th>notes</th>\n",
       "    </tr>\n",
       "  </thead>\n",
       "  <tbody>\n",
       "    <tr>\n",
       "      <th>0</th>\n",
       "      <td>17.11.2021</td>\n",
       "      <td>урок</td>\n",
       "      <td>информатика</td>\n",
       "      <td>дз на доске (должен написать в четверг)</td>\n",
       "    </tr>\n",
       "    <tr>\n",
       "      <th>1</th>\n",
       "      <td>17.11.2021</td>\n",
       "      <td>оплата</td>\n",
       "      <td>NaN</td>\n",
       "      <td>NaN</td>\n",
       "    </tr>\n",
       "    <tr>\n",
       "      <th>2</th>\n",
       "      <td>17.11.2021</td>\n",
       "      <td>оплата</td>\n",
       "      <td>NaN</td>\n",
       "      <td>NaN</td>\n",
       "    </tr>\n",
       "    <tr>\n",
       "      <th>3</th>\n",
       "      <td>17.11.2021</td>\n",
       "      <td>оплата</td>\n",
       "      <td>NaN</td>\n",
       "      <td>NaN</td>\n",
       "    </tr>\n",
       "    <tr>\n",
       "      <th>4</th>\n",
       "      <td>17.11.2021</td>\n",
       "      <td>оплата</td>\n",
       "      <td>NaN</td>\n",
       "      <td>NaN</td>\n",
       "    </tr>\n",
       "    <tr>\n",
       "      <th>...</th>\n",
       "      <td>...</td>\n",
       "      <td>...</td>\n",
       "      <td>...</td>\n",
       "      <td>...</td>\n",
       "    </tr>\n",
       "    <tr>\n",
       "      <th>119</th>\n",
       "      <td>18.04.2022</td>\n",
       "      <td>оплата</td>\n",
       "      <td>NaN</td>\n",
       "      <td>NaN</td>\n",
       "    </tr>\n",
       "    <tr>\n",
       "      <th>120</th>\n",
       "      <td>18.04.2022</td>\n",
       "      <td>оплата</td>\n",
       "      <td>NaN</td>\n",
       "      <td>NaN</td>\n",
       "    </tr>\n",
       "    <tr>\n",
       "      <th>121</th>\n",
       "      <td>22.04.2022</td>\n",
       "      <td>урок</td>\n",
       "      <td>информатика</td>\n",
       "      <td>дз вар 7</td>\n",
       "    </tr>\n",
       "    <tr>\n",
       "      <th>122</th>\n",
       "      <td>25.04.2022</td>\n",
       "      <td>урок</td>\n",
       "      <td>математика</td>\n",
       "      <td>дз вар 15</td>\n",
       "    </tr>\n",
       "    <tr>\n",
       "      <th>123</th>\n",
       "      <td>27.04.2022</td>\n",
       "      <td>урок</td>\n",
       "      <td>информатика</td>\n",
       "      <td>дз вар 8</td>\n",
       "    </tr>\n",
       "  </tbody>\n",
       "</table>\n",
       "<p>124 rows × 4 columns</p>\n",
       "</div>"
      ],
      "text/plain": [
       "           date    type      subject                                    notes\n",
       "0    17.11.2021    урок  информатика  дз на доске (должен написать в четверг)\n",
       "1    17.11.2021  оплата          NaN                                      NaN\n",
       "2    17.11.2021  оплата          NaN                                      NaN\n",
       "3    17.11.2021  оплата          NaN                                      NaN\n",
       "4    17.11.2021  оплата          NaN                                      NaN\n",
       "..          ...     ...          ...                                      ...\n",
       "119  18.04.2022  оплата          NaN                                      NaN\n",
       "120  18.04.2022  оплата          NaN                                      NaN\n",
       "121  22.04.2022    урок  информатика                                 дз вар 7\n",
       "122  25.04.2022    урок   математика                                дз вар 15\n",
       "123  27.04.2022    урок  информатика                                 дз вар 8\n",
       "\n",
       "[124 rows x 4 columns]"
      ]
     },
     "execution_count": 11,
     "metadata": {},
     "output_type": "execute_result"
    }
   ],
   "source": [
    "ledger.get_data()"
   ]
  },
  {
   "cell_type": "code",
   "execution_count": 12,
   "metadata": {},
   "outputs": [],
   "source": [
    "import matplotlib.pyplot as plt\n",
    "math_mistakes = [3, 9, 11, 14, 11, \n",
    "                 2, 5, 6, 8, 9, 11, 12,\n",
    "                12, 13, 14, 15,\n",
    "                7, 12, 13, 14, 16, 17, 18,\n",
    "                10, 13, 16, 17, 18,\n",
    "                12, 16, 17, 18,\n",
    "                1, 2, 6, 13, 14, 16, 17, 18,\n",
    "                8, 13, 14, 16, 17, 18,\n",
    "                6, 7, 10, 14, 16, 17, 18,\n",
    "                15, 16, 17, 18,\n",
    "                9, 10, 16, 17, 18,\n",
    "                7, 12, 13, 14, 15, 17, 18,\n",
    "                8, 10, 13, 15, 16, 17, 18,\n",
    "                10, 12, 13, 16, 17, 18]\n",
    "\n",
    "ph_mistakes = [7, 10, 11, 13, 16, 19, 26, 27, 29, 30,\n",
    "              1,2,6, 7, 11, 12, 14, 16, 17, 21, 30, 29, 28, 24, 25,\n",
    "              2, 6, 11, 17, 21, 25, 30, 24, 28, 29,\n",
    "              5, 8, 9, 12, 15, 16, 18, 20, 21, 22, 24, 28, 29, 30,\n",
    "              1, 4, 7, 9, 10, 11, 12, 13, 14, 16, 17, 18, 22, 25, 27, 28, 29,\n",
    "              1, 8, 11, 12, 14, 15, 17, 27, 28, 29, 30,\n",
    "              5, 7, 12, 18, 21, 23, 24, 25, 26, 27, 28, 29, 30,\n",
    "              1, 3, 5, 13, 18, 27, 28, 29, 30,\n",
    "              1, 2, 9, 11, 14, 20, 21, 23, 25, 28, 29, 30,\n",
    "              1, 2, 5, 7, 12, 15, 16, 17, 18, 19, 29, 30,\n",
    "              1, 2, 9, 12, 17, 21, 24, 26, 28, 30,\n",
    "              1, 2, 4, 7, 9, 12, 13, 9, 21, 22, 24, 25, 28, 29, 30]\n",
    "\n",
    "inf_mistakes = [3, 4, 9, 11, 15, 21, 23, 24, 26, 27,\n",
    "               14, 15, 18, 20, 21, 25, 26, 27,\n",
    "               3, 9, 10, 12, 15, 18, 21, 25, 26,\n",
    "               10, 12, 13, 15, 18, 21, 25, 26, 27,\n",
    "               7, 9, 14, 15, 17, 18, 19, 20, 21, 24, 25, 26, 27,\n",
    "               3, 7, 10, 17, 18, 19, 24, 25, 26, 27]"
   ]
  },
  {
   "cell_type": "code",
   "execution_count": 13,
   "metadata": {},
   "outputs": [
    {
     "data": {
      "image/png": "[encoded data removed]",
      "text/plain": [
       "<Figure size 432x288 with 1 Axes>"
      ]
     },
     "metadata": {
      "needs_background": "light"
     },
     "output_type": "display_data"
    }
   ],
   "source": [
    "plt.hist(math_mistakes, range=(1, 18), bins=list(range(1, 19)), align='left')\n",
    "plt.locator_params(axis='x', nbins=18)"
   ]
  },
  {
   "cell_type": "code",
   "execution_count": 14,
   "metadata": {},
   "outputs": [
    {
     "data": {
      "image/png": "[encoded data removed]",
      "text/plain": [
       "<Figure size 432x288 with 1 Axes>"
      ]
     },
     "metadata": {
      "needs_background": "light"
     },
     "output_type": "display_data"
    }
   ],
   "source": [
    "plt.hist(ph_mistakes, range=(1, 30), bins=list(range(1, 31)), align='left')\n",
    "plt.locator_params(axis='x', nbins=30)"
   ]
  },
  {
   "cell_type": "code",
   "execution_count": 15,
   "metadata": {},
   "outputs": [
    {
     "data": {
      "image/png": "[encoded data removed]",
      "text/plain": [
       "<Figure size 432x288 with 1 Axes>"
      ]
     },
     "metadata": {
      "needs_background": "light"
     },
     "output_type": "display_data"
    }
   ],
   "source": [
    "plt.hist(inf_mistakes, range=(1, 27), bins=list(range(1, 28)), align='left')\n",
    "plt.locator_params(axis='x', nbins=27)"
   ]
  },
  {
   "cell_type": "code",
   "execution_count": 7,
   "metadata": {},
   "outputs": [
    {
     "data": {
      "text/html": [
       "<div>\n",
       "<style scoped>\n",
       "    .dataframe tbody tr th:only-of-type {\n",
       "        vertical-align: middle;\n",
       "    }\n",
       "\n",
       "    .dataframe tbody tr th {\n",
       "        vertical-align: top;\n",
       "    }\n",
       "\n",
       "    .dataframe thead th {\n",
       "        text-align: right;\n",
       "    }\n",
       "</style>\n",
       "<table border=\"1\" class=\"dataframe\">\n",
       "  <thead>\n",
       "    <tr style=\"text-align: right;\">\n",
       "      <th></th>\n",
       "      <th>date</th>\n",
       "      <th>type</th>\n",
       "      <th>subject</th>\n",
       "      <th>notes</th>\n",
       "    </tr>\n",
       "  </thead>\n",
       "  <tbody>\n",
       "    <tr>\n",
       "      <th>7</th>\n",
       "      <td>19.11.2021</td>\n",
       "      <td>урок</td>\n",
       "      <td>математика</td>\n",
       "      <td>дз на доске - решение экономиечских задач с оф...</td>\n",
       "    </tr>\n",
       "    <tr>\n",
       "      <th>8</th>\n",
       "      <td>22.11.2021</td>\n",
       "      <td>урок</td>\n",
       "      <td>математика</td>\n",
       "      <td>дз на доске (экономические задачи 4.7.7-4.7.9)</td>\n",
       "    </tr>\n",
       "    <tr>\n",
       "      <th>11</th>\n",
       "      <td>29.11.2021</td>\n",
       "      <td>урок</td>\n",
       "      <td>математика</td>\n",
       "      <td>дз на доске (неравенства)</td>\n",
       "    </tr>\n",
       "    <tr>\n",
       "      <th>22</th>\n",
       "      <td>06.12.2021</td>\n",
       "      <td>урок</td>\n",
       "      <td>математика</td>\n",
       "      <td>дз на доске (неравенства и параметры)</td>\n",
       "    </tr>\n",
       "    <tr>\n",
       "      <th>25</th>\n",
       "      <td>13.12.2021</td>\n",
       "      <td>урок</td>\n",
       "      <td>математика</td>\n",
       "      <td>дз на доске (неравенства и параметры)</td>\n",
       "    </tr>\n",
       "    <tr>\n",
       "      <th>32</th>\n",
       "      <td>20.12.2021</td>\n",
       "      <td>урок</td>\n",
       "      <td>математика</td>\n",
       "      <td>дз на доске (параметры)</td>\n",
       "    </tr>\n",
       "    <tr>\n",
       "      <th>34</th>\n",
       "      <td>10.01.2022</td>\n",
       "      <td>урок</td>\n",
       "      <td>математика</td>\n",
       "      <td>дз вариант 1 егэ</td>\n",
       "    </tr>\n",
       "    <tr>\n",
       "      <th>45</th>\n",
       "      <td>17.01.2022</td>\n",
       "      <td>урок</td>\n",
       "      <td>математика</td>\n",
       "      <td>дз демоверсия вар 2 полностью</td>\n",
       "    </tr>\n",
       "    <tr>\n",
       "      <th>48</th>\n",
       "      <td>24.01.2022</td>\n",
       "      <td>урок</td>\n",
       "      <td>математика</td>\n",
       "      <td>дз вар 6</td>\n",
       "    </tr>\n",
       "    <tr>\n",
       "      <th>51</th>\n",
       "      <td>31.01.2022</td>\n",
       "      <td>урок</td>\n",
       "      <td>математика</td>\n",
       "      <td>дз вар 7 полностью</td>\n",
       "    </tr>\n",
       "    <tr>\n",
       "      <th>61</th>\n",
       "      <td>07.02.2022</td>\n",
       "      <td>урок</td>\n",
       "      <td>математика</td>\n",
       "      <td>дз вар 11</td>\n",
       "    </tr>\n",
       "    <tr>\n",
       "      <th>64</th>\n",
       "      <td>14.02.2022</td>\n",
       "      <td>урок</td>\n",
       "      <td>математика</td>\n",
       "      <td>дз вар 12</td>\n",
       "    </tr>\n",
       "    <tr>\n",
       "      <th>72</th>\n",
       "      <td>21.02.2022</td>\n",
       "      <td>урок</td>\n",
       "      <td>математика</td>\n",
       "      <td>дз вар 13</td>\n",
       "    </tr>\n",
       "    <tr>\n",
       "      <th>74</th>\n",
       "      <td>28.02.2022</td>\n",
       "      <td>урок</td>\n",
       "      <td>математика</td>\n",
       "      <td>дз вар 16</td>\n",
       "    </tr>\n",
       "    <tr>\n",
       "      <th>83</th>\n",
       "      <td>07.03.2022</td>\n",
       "      <td>урок</td>\n",
       "      <td>математика</td>\n",
       "      <td>дз вар 17</td>\n",
       "    </tr>\n",
       "    <tr>\n",
       "      <th>86</th>\n",
       "      <td>14.03.2022</td>\n",
       "      <td>урок</td>\n",
       "      <td>математика</td>\n",
       "      <td>дз вар 21</td>\n",
       "    </tr>\n",
       "    <tr>\n",
       "      <th>96</th>\n",
       "      <td>21.03.2022</td>\n",
       "      <td>урок</td>\n",
       "      <td>математика</td>\n",
       "      <td>дз вар 3</td>\n",
       "    </tr>\n",
       "    <tr>\n",
       "      <th>99</th>\n",
       "      <td>28.03.2022</td>\n",
       "      <td>урок</td>\n",
       "      <td>математика</td>\n",
       "      <td>дз вар 4</td>\n",
       "    </tr>\n",
       "    <tr>\n",
       "      <th>108</th>\n",
       "      <td>04.04.2022</td>\n",
       "      <td>урок</td>\n",
       "      <td>математика</td>\n",
       "      <td>дз вар 8</td>\n",
       "    </tr>\n",
       "    <tr>\n",
       "      <th>111</th>\n",
       "      <td>11.04.2022</td>\n",
       "      <td>урок</td>\n",
       "      <td>математика</td>\n",
       "      <td>дз вар 9</td>\n",
       "    </tr>\n",
       "    <tr>\n",
       "      <th>114</th>\n",
       "      <td>18.04.2022</td>\n",
       "      <td>урок</td>\n",
       "      <td>математика</td>\n",
       "      <td>дз вар 14</td>\n",
       "    </tr>\n",
       "  </tbody>\n",
       "</table>\n",
       "</div>"
      ],
      "text/plain": [
       "           date  type     subject  \\\n",
       "7    19.11.2021  урок  математика   \n",
       "8    22.11.2021  урок  математика   \n",
       "11   29.11.2021  урок  математика   \n",
       "22   06.12.2021  урок  математика   \n",
       "25   13.12.2021  урок  математика   \n",
       "32   20.12.2021  урок  математика   \n",
       "34   10.01.2022  урок  математика   \n",
       "45   17.01.2022  урок  математика   \n",
       "48   24.01.2022  урок  математика   \n",
       "51   31.01.2022  урок  математика   \n",
       "61   07.02.2022  урок  математика   \n",
       "64   14.02.2022  урок  математика   \n",
       "72   21.02.2022  урок  математика   \n",
       "74   28.02.2022  урок  математика   \n",
       "83   07.03.2022  урок  математика   \n",
       "86   14.03.2022  урок  математика   \n",
       "96   21.03.2022  урок  математика   \n",
       "99   28.03.2022  урок  математика   \n",
       "108  04.04.2022  урок  математика   \n",
       "111  11.04.2022  урок  математика   \n",
       "114  18.04.2022  урок  математика   \n",
       "\n",
       "                                                 notes  \n",
       "7    дз на доске - решение экономиечских задач с оф...  \n",
       "8       дз на доске (экономические задачи 4.7.7-4.7.9)  \n",
       "11                           дз на доске (неравенства)  \n",
       "22               дз на доске (неравенства и параметры)  \n",
       "25               дз на доске (неравенства и параметры)  \n",
       "32                             дз на доске (параметры)  \n",
       "34                                    дз вариант 1 егэ  \n",
       "45                       дз демоверсия вар 2 полностью  \n",
       "48                                            дз вар 6  \n",
       "51                                  дз вар 7 полностью  \n",
       "61                                           дз вар 11  \n",
       "64                                           дз вар 12  \n",
       "72                                           дз вар 13  \n",
       "74                                           дз вар 16  \n",
       "83                                           дз вар 17  \n",
       "86                                           дз вар 21  \n",
       "96                                            дз вар 3  \n",
       "99                                            дз вар 4  \n",
       "108                                           дз вар 8  \n",
       "111                                           дз вар 9  \n",
       "114                                          дз вар 14  "
      ]
     },
     "execution_count": 7,
     "metadata": {},
     "output_type": "execute_result"
    }
   ],
   "source": [
    "df = ledger.get_data()\n",
    "df.loc[df['subject'] == 'математика']"
   ]
  }
 ],
 "metadata": {
  "kernelspec": {
   "display_name": "Python 3 (ipykernel)",
   "language": "python",
   "name": "python3"
  },
  "language_info": {
   "codemirror_mode": {
    "name": "ipython",
    "version": 3
   },
   "file_extension": ".py",
   "mimetype": "text/x-python",
   "name": "python",
   "nbconvert_exporter": "python",
   "pygments_lexer": "ipython3",
   "version": "3.9.7"
  }
 },
 "nbformat": 4,
 "nbformat_minor": 4
}
