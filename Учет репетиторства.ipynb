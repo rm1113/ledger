{
 "cells": [
  {
   "cell_type": "code",
   "execution_count": 1,
   "metadata": {},
   "outputs": [],
   "source": [
    "from ledger import Ledger\n",
    "from datetime import date"
   ]
  },
  {
   "cell_type": "code",
   "execution_count": 2,
   "metadata": {},
   "outputs": [],
   "source": [
    "ledger = Ledger(filename=\"data/ledger.csv\")"
   ]
  },
  {
   "cell_type": "code",
   "execution_count": 3,
   "metadata": {},
   "outputs": [
    {
     "name": "stdout",
     "output_type": "stream",
     "text": [
      "Data was appended to file!\n"
     ]
    }
   ],
   "source": [
    "### запись уроков ###\n",
    "date_ = date.today().strftime(\"%d.%m.%Y\")  # Сегодня\n",
    "lesson = \"физика\"\n",
    "notes = \"дз вар 9\"\n",
    "a = ledger.write_lesson(date=date_, subject=lesson, notes=notes)"
   ]
  },
  {
   "cell_type": "code",
   "execution_count": 4,
   "metadata": {},
   "outputs": [
    {
     "name": "stdout",
     "output_type": "stream",
     "text": [
      "Оплачено 2 уроков вперед\n"
     ]
    }
   ],
   "source": [
    "ledger.check_status()"
   ]
  },
  {
   "cell_type": "code",
   "execution_count": 4,
   "metadata": {},
   "outputs": [
    {
     "name": "stdout",
     "output_type": "stream",
     "text": [
      "Data was appended to file!\n"
     ]
    }
   ],
   "source": [
    "### запись оплаты ######\n",
    "date_ = date.today().strftime(\"%d.%m.%Y\")  # Сегодня\n",
    "money = 7200\n",
    "a = ledger.write_payment(date=date_, payment=money)"
   ]
  },
  {
   "cell_type": "code",
   "execution_count": 5,
   "metadata": {},
   "outputs": [
    {
     "data": {
      "text/html": [
       "<div>\n",
       "<style scoped>\n",
       "    .dataframe tbody tr th:only-of-type {\n",
       "        vertical-align: middle;\n",
       "    }\n",
       "\n",
       "    .dataframe tbody tr th {\n",
       "        vertical-align: top;\n",
       "    }\n",
       "\n",
       "    .dataframe thead th {\n",
       "        text-align: right;\n",
       "    }\n",
       "</style>\n",
       "<table border=\"1\" class=\"dataframe\">\n",
       "  <thead>\n",
       "    <tr style=\"text-align: right;\">\n",
       "      <th></th>\n",
       "      <th>date</th>\n",
       "      <th>type</th>\n",
       "      <th>subject</th>\n",
       "      <th>notes</th>\n",
       "    </tr>\n",
       "  </thead>\n",
       "  <tbody>\n",
       "    <tr>\n",
       "      <th>0</th>\n",
       "      <td>17.11.2021</td>\n",
       "      <td>урок</td>\n",
       "      <td>информатика</td>\n",
       "      <td>дз на доске (должен написать в четверг)</td>\n",
       "    </tr>\n",
       "    <tr>\n",
       "      <th>1</th>\n",
       "      <td>17.11.2021</td>\n",
       "      <td>оплата</td>\n",
       "      <td>NaN</td>\n",
       "      <td>NaN</td>\n",
       "    </tr>\n",
       "    <tr>\n",
       "      <th>2</th>\n",
       "      <td>17.11.2021</td>\n",
       "      <td>оплата</td>\n",
       "      <td>NaN</td>\n",
       "      <td>NaN</td>\n",
       "    </tr>\n",
       "    <tr>\n",
       "      <th>3</th>\n",
       "      <td>17.11.2021</td>\n",
       "      <td>оплата</td>\n",
       "      <td>NaN</td>\n",
       "      <td>NaN</td>\n",
       "    </tr>\n",
       "    <tr>\n",
       "      <th>4</th>\n",
       "      <td>17.11.2021</td>\n",
       "      <td>оплата</td>\n",
       "      <td>NaN</td>\n",
       "      <td>NaN</td>\n",
       "    </tr>\n",
       "    <tr>\n",
       "      <th>...</th>\n",
       "      <td>...</td>\n",
       "      <td>...</td>\n",
       "      <td>...</td>\n",
       "      <td>...</td>\n",
       "    </tr>\n",
       "    <tr>\n",
       "      <th>81</th>\n",
       "      <td>04.03.2022</td>\n",
       "      <td>оплата</td>\n",
       "      <td>NaN</td>\n",
       "      <td>NaN</td>\n",
       "    </tr>\n",
       "    <tr>\n",
       "      <th>82</th>\n",
       "      <td>04.03.2022</td>\n",
       "      <td>урок</td>\n",
       "      <td>физика</td>\n",
       "      <td>дз вар 8</td>\n",
       "    </tr>\n",
       "    <tr>\n",
       "      <th>83</th>\n",
       "      <td>07.03.2022</td>\n",
       "      <td>урок</td>\n",
       "      <td>математика</td>\n",
       "      <td>дз вар 17</td>\n",
       "    </tr>\n",
       "    <tr>\n",
       "      <th>84</th>\n",
       "      <td>09.03.2022</td>\n",
       "      <td>урок</td>\n",
       "      <td>информатика</td>\n",
       "      <td>дз вар 1</td>\n",
       "    </tr>\n",
       "    <tr>\n",
       "      <th>85</th>\n",
       "      <td>11.03.2022</td>\n",
       "      <td>урок</td>\n",
       "      <td>физика</td>\n",
       "      <td>дз вар 9</td>\n",
       "    </tr>\n",
       "  </tbody>\n",
       "</table>\n",
       "<p>86 rows × 4 columns</p>\n",
       "</div>"
      ],
      "text/plain": [
       "          date    type      subject                                    notes\n",
       "0   17.11.2021    урок  информатика  дз на доске (должен написать в четверг)\n",
       "1   17.11.2021  оплата          NaN                                      NaN\n",
       "2   17.11.2021  оплата          NaN                                      NaN\n",
       "3   17.11.2021  оплата          NaN                                      NaN\n",
       "4   17.11.2021  оплата          NaN                                      NaN\n",
       "..         ...     ...          ...                                      ...\n",
       "81  04.03.2022  оплата          NaN                                      NaN\n",
       "82  04.03.2022    урок       физика                                 дз вар 8\n",
       "83  07.03.2022    урок   математика                                дз вар 17\n",
       "84  09.03.2022    урок  информатика                                 дз вар 1\n",
       "85  11.03.2022    урок       физика                                 дз вар 9\n",
       "\n",
       "[86 rows x 4 columns]"
      ]
     },
     "execution_count": 5,
     "metadata": {},
     "output_type": "execute_result"
    }
   ],
   "source": [
    "ledger.get_data()"
   ]
  },
  {
   "cell_type": "code",
   "execution_count": 6,
   "metadata": {},
   "outputs": [],
   "source": [
    "import matplotlib.pyplot as plt\n",
    "math_mistakes = [3, 9, 11, 14, 11, \n",
    "                 2, 5, 6, 8, 9, 11, 12,\n",
    "                12, 13, 14, 15,\n",
    "                7, 12, 13, 14, 16, 17, 18,\n",
    "                10, 13, 16, 17, 18,\n",
    "                12, 16, 17, 18,\n",
    "                1, 2, 6, 13, 14, 16, 17, 18]\n",
    "ph_mistakes = [7, 10, 11, 13, 16, 19, 26, 27, 29, 30,\n",
    "              1,2,6, 7, 11, 12, 14, 16, 17, 21, 30, 29, 28, 24, 25,\n",
    "              2, 6, 11, 17, 21, 25, 30, 24, 28, 29,\n",
    "              5, 8, 9, 12, 15, 16, 18, 20, 21, 22, 24, 28, 29, 30,\n",
    "              1, 4, 7, 9, 10, 11, 12, 13, 14, 16, 17, 18, 22, 25, 27, 28, 29,\n",
    "              1, 8, 11, 12, 14, 15, 17, 27, 28, 29, 30]\n",
    "inf_mistakes = []"
   ]
  },
  {
   "cell_type": "code",
   "execution_count": 7,
   "metadata": {},
   "outputs": [
    {
     "data": {
      "image/png": "[encoded data removed]",
      "text/plain": [
       "<Figure size 432x288 with 1 Axes>"
      ]
     },
     "metadata": {
      "needs_background": "light"
     },
     "output_type": "display_data"
    }
   ],
   "source": [
    "plt.hist(math_mistakes, range=(1, 18), bins=list(range(1, 19)), align='mid')\n",
    "plt.locator_params(axis='x', nbins=18)"
   ]
  },
  {
   "cell_type": "code",
   "execution_count": 8,
   "metadata": {},
   "outputs": [
    {
     "data": {
      "image/png": "[encoded data removed]",
      "text/plain": [
       "<Figure size 432x288 with 1 Axes>"
      ]
     },
     "metadata": {
      "needs_background": "light"
     },
     "output_type": "display_data"
    }
   ],
   "source": [
    "plt.hist(ph_mistakes, range=(1, 30), bins=list(range(1, 31)), align='mid')\n",
    "plt.locator_params(axis='x', nbins=30)"
   ]
  },
  {
   "cell_type": "code",
   "execution_count": null,
   "metadata": {},
   "outputs": [],
   "source": []
  }
 ],
 "metadata": {
  "kernelspec": {
   "display_name": "Python 3",
   "language": "python",
   "name": "python3"
  },
  "language_info": {
   "codemirror_mode": {
    "name": "ipython",
    "version": 3
   },
   "file_extension": ".py",
   "mimetype": "text/x-python",
   "name": "python",
   "nbconvert_exporter": "python",
   "pygments_lexer": "ipython3",
   "version": "3.8.5"
  }
 },
 "nbformat": 4,
 "nbformat_minor": 4
}
