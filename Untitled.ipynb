{
 "cells": [
  {
   "cell_type": "code",
   "execution_count": 1,
   "id": "1147b9e3",
   "metadata": {},
   "outputs": [],
   "source": [
    "import math as m"
   ]
  },
  {
   "cell_type": "code",
   "execution_count": 10,
   "id": "5718102f",
   "metadata": {},
   "outputs": [
    {
     "data": {
      "text/plain": [
       "12.913070567264281"
      ]
     },
     "execution_count": 10,
     "metadata": {},
     "output_type": "execute_result"
    }
   ],
   "source": [
    "m.asin(180 * (3**0.5) / 41 / (1159)**0.5) * 180 / 3.14"
   ]
  },
  {
   "cell_type": "code",
   "execution_count": 9,
   "id": "3272d565",
   "metadata": {},
   "outputs": [
    {
     "data": {
      "text/plain": [
       "90.04564930671381"
      ]
     },
     "execution_count": 9,
     "metadata": {},
     "output_type": "execute_result"
    }
   ],
   "source": [
    "m.asin(1) * 180 / 3.14"
   ]
  },
  {
   "cell_type": "code",
   "execution_count": 15,
   "id": "1727b9e2",
   "metadata": {},
   "outputs": [
    {
     "data": {
      "text/plain": [
       "77.77294470290809"
      ]
     },
     "execution_count": 15,
     "metadata": {},
     "output_type": "execute_result"
    }
   ],
   "source": [
    "m.acos(180 * (427**0.5) / 41 / 427 ) * 180 / 3.14"
   ]
  },
  {
   "cell_type": "code",
   "execution_count": 13,
   "id": "c15e58b4",
   "metadata": {},
   "outputs": [
    {
     "data": {
      "text/plain": [
       "90"
      ]
     },
     "execution_count": 13,
     "metadata": {},
     "output_type": "execute_result"
    }
   ],
   "source": [
    "77 + 13"
   ]
  },
  {
   "cell_type": "code",
   "execution_count": null,
   "id": "35b74283",
   "metadata": {},
   "outputs": [],
   "source": []
  }
 ],
 "metadata": {
  "kernelspec": {
   "display_name": "Python 3 (ipykernel)",
   "language": "python",
   "name": "python3"
  },
  "language_info": {
   "codemirror_mode": {
    "name": "ipython",
    "version": 3
   },
   "file_extension": ".py",
   "mimetype": "text/x-python",
   "name": "python",
   "nbconvert_exporter": "python",
   "pygments_lexer": "ipython3",
   "version": "3.9.7"
  }
 },
 "nbformat": 4,
 "nbformat_minor": 5
}
