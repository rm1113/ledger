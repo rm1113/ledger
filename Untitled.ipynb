{
 "cells": [
  {
   "cell_type": "code",
   "execution_count": 1,
   "id": "35b74283",
   "metadata": {},
   "outputs": [],
   "source": [
    "n_min = 200\n",
    "n_gr = 6"
   ]
  },
  {
   "cell_type": "code",
   "execution_count": 2,
   "id": "520b0601",
   "metadata": {},
   "outputs": [],
   "source": [
    "data = [\n",
    "    [40, 30],\n",
    "    [20, 30], \n",
    "    [30, 45],\n",
    "    [80, 30],\n",
    "    [60, 40],\n",
    "    [20, 50]\n",
    "]"
   ]
  },
  {
   "cell_type": "code",
   "execution_count": 8,
   "id": "825ac594",
   "metadata": {},
   "outputs": [],
   "source": [
    "podgt_to_otgr = dict()\n",
    "otgr_to_podgt = dict()\n",
    "first_step = (99999, 99999, 99999)\n",
    "\n",
    "for a, b in data:\n",
    "    podgt_to_otgr.setdefault(a, [])\n",
    "    podgt_to_otgr[a].append(b)\n",
    "    \n",
    "    otgr_to_podgt.setdefault(b, [])\n",
    "    otgr_to_podgt[b].append(a)\n",
    "    \n",
    "    if a+b < first_step[0]:\n",
    "        first_step = (a+b, a, b)"
   ]
  },
  {
   "cell_type": "code",
   "execution_count": 10,
   "id": "d6230d69",
   "metadata": {},
   "outputs": [
    {
     "data": {
      "text/plain": [
       "{40: [30], 20: [30, 50], 30: [45], 80: [30], 60: [40]}"
      ]
     },
     "execution_count": 10,
     "metadata": {},
     "output_type": "execute_result"
    }
   ],
   "source": [
    "podgt_to_otgr"
   ]
  },
  {
   "cell_type": "code",
   "execution_count": 11,
   "id": "89da2188",
   "metadata": {},
   "outputs": [
    {
     "data": {
      "text/plain": [
       "[30]"
      ]
     },
     "execution_count": 11,
     "metadata": {},
     "output_type": "execute_result"
    }
   ],
   "source": [
    "podgt_to_otgr.pop(40)"
   ]
  },
  {
   "cell_type": "code",
   "execution_count": 12,
   "id": "4aa34239",
   "metadata": {},
   "outputs": [
    {
     "data": {
      "text/plain": [
       "{20: [30, 50], 30: [45], 80: [30], 60: [40]}"
      ]
     },
     "execution_count": 12,
     "metadata": {},
     "output_type": "execute_result"
    }
   ],
   "source": [
    "podgt_to_otgr"
   ]
  },
  {
   "cell_type": "code",
   "execution_count": 13,
   "id": "b92357cf",
   "metadata": {},
   "outputs": [],
   "source": [
    "q = [1, 2, 3, 4, 5, 6]"
   ]
  },
  {
   "cell_type": "code",
   "execution_count": 14,
   "id": "5ea05e61",
   "metadata": {},
   "outputs": [
    {
     "data": {
      "text/plain": [
       "3"
      ]
     },
     "execution_count": 14,
     "metadata": {},
     "output_type": "execute_result"
    }
   ],
   "source": [
    "q.pop(2)"
   ]
  },
  {
   "cell_type": "code",
   "execution_count": 16,
   "id": "8eb9054a",
   "metadata": {},
   "outputs": [],
   "source": [
    "q.remove(4)"
   ]
  },
  {
   "cell_type": "code",
   "execution_count": 17,
   "id": "2055c0e2",
   "metadata": {},
   "outputs": [
    {
     "data": {
      "text/plain": [
       "[1, 2, 5, 6]"
      ]
     },
     "execution_count": 17,
     "metadata": {},
     "output_type": "execute_result"
    }
   ],
   "source": [
    "q"
   ]
  },
  {
   "cell_type": "code",
   "execution_count": null,
   "id": "2a2a2f56",
   "metadata": {},
   "outputs": [],
   "source": []
  }
 ],
 "metadata": {
  "kernelspec": {
   "display_name": "Python 3 (ipykernel)",
   "language": "python",
   "name": "python3"
  },
  "language_info": {
   "codemirror_mode": {
    "name": "ipython",
    "version": 3
   },
   "file_extension": ".py",
   "mimetype": "text/x-python",
   "name": "python",
   "nbconvert_exporter": "python",
   "pygments_lexer": "ipython3",
   "version": "3.9.7"
  }
 },
 "nbformat": 4,
 "nbformat_minor": 5
}
